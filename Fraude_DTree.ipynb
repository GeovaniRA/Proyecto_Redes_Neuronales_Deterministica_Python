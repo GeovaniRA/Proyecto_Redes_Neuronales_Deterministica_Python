{
  "cells": [
    {
      "cell_type": "code",
      "execution_count": null,
      "metadata": {
        "id": "FfhMOv48ph1Q"
      },
      "outputs": [],
      "source": [
        "%load_ext rpy2.ipython"
      ]
    },
    {
      "cell_type": "code",
      "source": [
        "from google.colab import drive\n",
        "drive.mount('/content/drive')"
      ],
      "metadata": {
        "colab": {
          "base_uri": "https://localhost:8080/"
        },
        "id": "VNfaYLT3AFgG",
        "outputId": "326d48e5-b64c-4a21-a3ed-c4b06227e378"
      },
      "execution_count": null,
      "outputs": [
        {
          "output_type": "stream",
          "name": "stdout",
          "text": [
            "Drive already mounted at /content/drive; to attempt to forcibly remount, call drive.mount(\"/content/drive\", force_remount=True).\n"
          ]
        }
      ]
    },
    {
      "cell_type": "markdown",
      "metadata": {
        "id": "mPas0x68pNoU"
      },
      "source": [
        "# DETECCION DE FRAUDES CON TARJETAS DE CREDITO"
      ]
    },
    {
      "cell_type": "code",
      "execution_count": null,
      "metadata": {
        "id": "XDX0ExI_nZgt"
      },
      "outputs": [],
      "source": [
        "# DEFINIR RUTA\n",
        "import os\n",
        "os.chdir(\"/content/drive/MyDrive/Proyecto\")"
      ]
    },
    {
      "cell_type": "markdown",
      "metadata": {
        "id": "cTVRdB5Jpyk4"
      },
      "source": [
        "CARGA DE DATOS"
      ]
    },
    {
      "cell_type": "code",
      "execution_count": null,
      "metadata": {
        "colab": {
          "base_uri": "https://localhost:8080/"
        },
        "id": "8h4EdtRspbI0",
        "outputId": "0b6ce5eb-cb1f-43e4-e0f8-1f2da267872d"
      },
      "outputs": [
        {
          "output_type": "stream",
          "name": "stdout",
          "text": [
            "'data.frame':\t1000000 obs. of  8 variables:\n",
            " $ distance_from_home            : num  57.88 10.83 5.09 2.25 44.19 ...\n",
            " $ distance_from_last_transaction: num  0.311 0.176 0.805 5.6 0.566 ...\n",
            " $ ratio_to_median_purchase_price: num  1.946 1.294 0.428 0.363 2.223 ...\n",
            " $ repeat_retailer               : num  1 1 1 1 1 1 1 1 0 1 ...\n",
            " $ used_chip                     : num  1 0 0 1 1 0 0 0 0 0 ...\n",
            " $ used_pin_number               : num  0 0 0 0 0 0 0 1 0 0 ...\n",
            " $ online_order                  : num  0 0 1 1 1 0 1 0 0 1 ...\n",
            " $ fraud                         : num  0 0 0 0 0 0 0 0 0 0 ...\n"
          ]
        }
      ],
      "source": [
        "%%R\n",
        "datos <- read.csv(\"card_transdata.csv\")\n",
        "str(datos)"
      ]
    },
    {
      "cell_type": "markdown",
      "metadata": {
        "id": "u27BaDSQqV3h"
      },
      "source": [
        "Limpieza y ajuste de datos"
      ]
    },
    {
      "cell_type": "code",
      "execution_count": null,
      "metadata": {
        "colab": {
          "base_uri": "https://localhost:8080/"
        },
        "id": "kUCZ7_ZDqA2L",
        "outputId": "1cf78fac-25cc-43dc-e4ab-2b5023a90081"
      },
      "outputs": [
        {
          "output_type": "stream",
          "name": "stdout",
          "text": [
            "'data.frame':\t1000000 obs. of  8 variables:\n",
            " $ distance_from_home            : num  57.88 10.83 5.09 2.25 44.19 ...\n",
            " $ distance_from_last_transaction: num  0.311 0.176 0.805 5.6 0.566 ...\n",
            " $ ratio_to_median_purchase_price: num  1.946 1.294 0.428 0.363 2.223 ...\n",
            " $ repeat_retailer               : num  1 1 1 1 1 1 1 1 0 1 ...\n",
            " $ used_chip                     : num  1 0 0 1 1 0 0 0 0 0 ...\n",
            " $ used_pin_number               : num  0 0 0 0 0 0 0 1 0 0 ...\n",
            " $ online_order                  : num  0 0 1 1 1 0 1 0 0 1 ...\n",
            " $ fraud                         : Factor w/ 2 levels \"0\",\"1\": 1 1 1 1 1 1 1 1 1 1 ...\n",
            "[1] \"--------------------------------------------\"\n",
            "[1] \"Numero de valores NA:  0\"\n"
          ]
        }
      ],
      "source": [
        "%%R\n",
        "# Variable dependiente como categorica\n",
        "datos$fraud <- as.factor(datos$fraud)\n",
        "str(datos)\n",
        "\n",
        "# Validacion datos nulos\n",
        "print(\"--------------------------------------------\")\n",
        "paste(\"Numero de valores NA: \", sum(is.na(datos)))"
      ]
    },
    {
      "cell_type": "markdown",
      "metadata": {
        "id": "wtj0MW5orDC1"
      },
      "source": [
        "Observar la distribucion de la variable de respuesta"
      ]
    },
    {
      "cell_type": "code",
      "execution_count": null,
      "metadata": {
        "colab": {
          "base_uri": "https://localhost:8080/",
          "height": 497
        },
        "id": "Ey9UwsVwqtbQ",
        "outputId": "a84e95cf-528f-4c40-f106-d48cea9904e6"
      },
      "outputs": [
        {
          "output_type": "display_data",
          "data": {
            "image/png": "[encoded data removed]"
          },
          "metadata": {}
        }
      ],
      "source": [
        "%%R\n",
        "library(ggplot2)\n",
        "\n",
        "ggplot(data = datos, aes(x = fraud, y = ..count.. , fill = fraud)) +\n",
        "  geom_bar() + \n",
        "  labs(title = \"Distribucion de la variable Fraude\") +\n",
        "  scale_fill_manual(values = c(\"darkgreen\", \"orangered2\"),\n",
        "                    labels = c(\"No fraude\", \"Fraude\")) +\n",
        "  theme_bw() +\n",
        "  theme(plot.title = element_text(hjust = 0.5))"
      ]
    },
    {
      "cell_type": "code",
      "source": [
        "%%R\n",
        "library(dplyr)\n",
        "#Tabla de frecuencia variable de respuesta\n",
        "table(datos$fraud)"
      ],
      "metadata": {
        "colab": {
          "base_uri": "https://localhost:8080/"
        },
        "id": "Fv90uS2iwC62",
        "outputId": "e07cb5d9-25b5-40b1-b2d8-6c792c36c8a4"
      },
      "execution_count": null,
      "outputs": [
        {
          "output_type": "stream",
          "name": "stderr",
          "text": [
            "R[write to console]: \n",
            "Attaching package: ‘dplyr’\n",
            "\n",
            "\n",
            "R[write to console]: The following objects are masked from ‘package:stats’:\n",
            "\n",
            "    filter, lag\n",
            "\n",
            "\n",
            "R[write to console]: The following objects are masked from ‘package:base’:\n",
            "\n",
            "    intersect, setdiff, setequal, union\n",
            "\n",
            "\n"
          ]
        },
        {
          "output_type": "stream",
          "name": "stdout",
          "text": [
            "\n",
            "     0      1 \n",
            "912597  87403 \n"
          ]
        }
      ]
    },
    {
      "cell_type": "code",
      "source": [
        "%%R\n",
        "#Tabla de proporciones variable de respuesta\n",
        "prop.table(table(datos$fraud)) %>% round(digits = 2 )"
      ],
      "metadata": {
        "colab": {
          "base_uri": "https://localhost:8080/"
        },
        "id": "5MSq8zZtweuv",
        "outputId": "a2278033-50f3-48f5-9cc4-5fa44bdde826"
      },
      "execution_count": null,
      "outputs": [
        {
          "output_type": "stream",
          "name": "stdout",
          "text": [
            "\n",
            "   0    1 \n",
            "0.91 0.09 \n"
          ]
        }
      ]
    },
    {
      "cell_type": "markdown",
      "source": [
        "Creación de nuestros conjuntos de entrenamiento y prueba para el modelo"
      ],
      "metadata": {
        "id": "sNl9CR4Dw6YP"
      }
    },
    {
      "cell_type": "code",
      "source": [
        "%%R\n",
        "install.packages(\"caret\")\n",
        "require(caret)"
      ],
      "metadata": {
        "id": "p8C2tjcCySKw"
      },
      "execution_count": null,
      "outputs": []
    },
    {
      "cell_type": "code",
      "source": [
        "%%R\n",
        "#Indices de observaciones de entrenamiento\n",
        "set.seed(369)\n",
        "train <- createDataPartition(y = datos$fraud, p = 0.8, list = FALSE,\n",
        "                             times = 1)\n",
        "\n",
        "#Datos de entrenamiento\n",
        "datos_train <- datos[train, ]\n",
        "print(prop.table(table(datos_train$fraud)) %>% round( digits = 2))\n",
        "print(\"-------------------------------------------\")\n",
        "dim(datos_train)"
      ],
      "metadata": {
        "colab": {
          "base_uri": "https://localhost:8080/"
        },
        "id": "P_q6tvfsxHci",
        "outputId": "8b4f79d7-3d44-496b-ea6e-0385b4381b6c"
      },
      "execution_count": null,
      "outputs": [
        {
          "output_type": "stream",
          "name": "stdout",
          "text": [
            "\n",
            "   0    1 \n",
            "0.91 0.09 \n",
            "[1] \"-------------------------------------------\"\n",
            "[1] 800001      8\n"
          ]
        }
      ]
    },
    {
      "cell_type": "code",
      "source": [
        "%%R\n",
        "#Datos de test \n",
        "datos_test <- datos[-train, ]\n",
        "print(prop.table(table(datos_test$fraud)) %>% round(digits = 2))\n",
        "print(\"-------------------------------------------\")\n",
        "dim(datos_test)"
      ],
      "metadata": {
        "colab": {
          "base_uri": "https://localhost:8080/"
        },
        "id": "j2dvmri_y9QV",
        "outputId": "3c5828fa-4362-4fbb-fe8c-2a751ad1043b"
      },
      "execution_count": null,
      "outputs": [
        {
          "output_type": "stream",
          "name": "stdout",
          "text": [
            "\n",
            "   0    1 \n",
            "0.91 0.09 \n",
            "[1] \"-------------------------------------------\"\n",
            "[1] 199999      8\n"
          ]
        }
      ]
    },
    {
      "cell_type": "markdown",
      "source": [
        "## Arbol de clasificacion simple\n"
      ],
      "metadata": {
        "id": "bkdl0afM0R_V"
      }
    },
    {
      "cell_type": "code",
      "source": [
        "%%R\n",
        "install.packages(\"tree\")\n",
        "library(tree)"
      ],
      "metadata": {
        "id": "2xkNPIBB0hAx"
      },
      "execution_count": null,
      "outputs": []
    },
    {
      "cell_type": "code",
      "source": [
        "%%R\n",
        "modelo_arbol = tree(fraud ~ ., data = datos_train)\n",
        "summary(modelo_arbol)"
      ],
      "metadata": {
        "colab": {
          "base_uri": "https://localhost:8080/"
        },
        "id": "rQrf4xtazjn8",
        "outputId": "76eeefac-10b3-46ba-d621-7f4d198d9694"
      },
      "execution_count": null,
      "outputs": [
        {
          "output_type": "stream",
          "name": "stdout",
          "text": [
            "\n",
            "Classification tree:\n",
            "tree(formula = fraud ~ ., data = datos_train)\n",
            "Variables actually used in tree construction:\n",
            "[1] \"ratio_to_median_purchase_price\" \"distance_from_home\"            \n",
            "[3] \"distance_from_last_transaction\" \"online_order\"                  \n",
            "[5] \"used_chip\"                      \"used_pin_number\"               \n",
            "Number of terminal nodes:  12 \n",
            "Residual mean deviance:  0.02803 = 22420 / 8e+05 \n",
            "Misclassification error rate: 0.00612 = 4896 / 800001 \n"
          ]
        }
      ]
    },
    {
      "cell_type": "markdown",
      "source": [
        "El modelo utilizo 6 de las 7 varibles exogenas, con un numero final de 12 nodos terminales. El training error (observaciones mal clasificadas) es de 0.61%."
      ],
      "metadata": {
        "id": "Z9SBOLzl1GhF"
      }
    },
    {
      "cell_type": "code",
      "source": [
        "%%R\n",
        "# Representacion grafica del arbol\n",
        "plot(modelo_arbol)\n",
        "text(modelo_arbol, splits = TRUE, pretty = 0,\n",
        "     cex = 0.8, col = \"firebrick\")"
      ],
      "metadata": {
        "colab": {
          "base_uri": "https://localhost:8080/",
          "height": 497
        },
        "id": "KW5cnKcA0xwp",
        "outputId": "1d17fd95-c444-43dc-f630-c85bd09334bb"
      },
      "execution_count": null,
      "outputs": [
        {
          "output_type": "display_data",
          "data": {
            "image/png": "[encoded data removed]"
          },
          "metadata": {}
        }
      ]
    },
    {
      "cell_type": "code",
      "source": [
        "%%R\n",
        "modelo_arbol"
      ],
      "metadata": {
        "colab": {
          "base_uri": "https://localhost:8080/"
        },
        "id": "mXiaxZbP15bd",
        "outputId": "96ab4ceb-807b-4a38-8fd1-66db8e351bf4"
      },
      "execution_count": null,
      "outputs": [
        {
          "output_type": "stream",
          "name": "stdout",
          "text": [
            "node), split, n, deviance, yval, (yprob)\n",
            "      * denotes terminal node\n",
            "\n",
            " 1) root 800001 474400.0 0 ( 0.912596 0.087404 )  \n",
            "   2) ratio_to_median_purchase_price < 4.00024 717364 167400.0 0 ( 0.975063 0.024937 )  \n",
            "     4) distance_from_home < 100.004 681594  49330.0 0 ( 0.994096 0.005904 )  \n",
            "       8) distance_from_last_transaction < 50.0008 671473      0.0 0 ( 1.000000 0.000000 ) *\n",
            "       9) distance_from_last_transaction > 50.0008 10121  13600.0 0 ( 0.602411 0.397589 )  \n",
            "        18) online_order < 0.5 3535      0.0 0 ( 1.000000 0.000000 ) *\n",
            "        19) online_order > 0.5 6586   8803.0 1 ( 0.389007 0.610993 ) *\n",
            "     5) distance_from_home > 100.004 35770  47770.0 0 ( 0.612385 0.387615 )  \n",
            "      10) used_chip < 0.5 23305  31580.0 1 ( 0.411843 0.588157 )  \n",
            "        20) online_order < 0.5 8236   1228.0 0 ( 0.985794 0.014206 ) *\n",
            "        21) online_order > 0.5 15069   9674.0 1 ( 0.098149 0.901851 )  \n",
            "          42) used_pin_number < 0.5 13590      0.0 1 ( 0.000000 1.000000 ) *\n",
            "          43) used_pin_number > 0.5 1479      0.0 0 ( 1.000000 0.000000 ) *\n",
            "      11) used_chip > 0.5 12465   1694.0 0 ( 0.987325 0.012675 ) *\n",
            "   3) ratio_to_median_purchase_price > 4.00024 82637 108900.0 1 ( 0.370330 0.629670 )  \n",
            "     6) online_order < 0.5 28992  21710.0 0 ( 0.876242 0.123758 )  \n",
            "      12) distance_from_home < 1.90009 3373   4568.0 1 ( 0.410910 0.589090 ) *\n",
            "      13) distance_from_home > 1.90009 25619  11980.0 0 ( 0.937507 0.062493 )  \n",
            "        26) distance_from_home < 100.037 24206   3465.0 0 ( 0.986491 0.013509 ) *\n",
            "        27) distance_from_home > 100.037 1413    908.5 1 ( 0.098372 0.901628 ) *\n",
            "     7) online_order > 0.5 53645  34150.0 1 ( 0.096915 0.903085 )  \n",
            "      14) used_pin_number < 0.5 48239      0.0 1 ( 0.000000 1.000000 ) *\n",
            "      15) used_pin_number > 0.5 5406   1757.0 0 ( 0.961709 0.038291 ) *\n"
          ]
        }
      ]
    },
    {
      "cell_type": "code",
      "source": [
        "%%R\n",
        "# Evaluacion del modelo - Predicciones datos test\n",
        "predicciones <- predict(modelo_arbol, datos_test, type = \"class\")\n",
        "confusionMatrix(predicciones, datos_test[,8])"
      ],
      "metadata": {
        "colab": {
          "base_uri": "https://localhost:8080/"
        },
        "id": "8wnZNZu_2jON",
        "outputId": "80276664-03ff-4ceb-cc38-c28dcd6c6e5e"
      },
      "execution_count": null,
      "outputs": [
        {
          "output_type": "stream",
          "name": "stdout",
          "text": [
            "Confusion Matrix and Statistics\n",
            "\n",
            "          Reference\n",
            "Prediction      0      1\n",
            "         0 181463    217\n",
            "         1   1056  17263\n",
            "                                         \n",
            "               Accuracy : 0.9936         \n",
            "                 95% CI : (0.9933, 0.994)\n",
            "    No Information Rate : 0.9126         \n",
            "    P-Value [Acc > NIR] : < 2.2e-16      \n",
            "                                         \n",
            "                  Kappa : 0.9609         \n",
            "                                         \n",
            " Mcnemar's Test P-Value : < 2.2e-16      \n",
            "                                         \n",
            "            Sensitivity : 0.9942         \n",
            "            Specificity : 0.9876         \n",
            "         Pos Pred Value : 0.9988         \n",
            "         Neg Pred Value : 0.9424         \n",
            "             Prevalence : 0.9126         \n",
            "         Detection Rate : 0.9073         \n",
            "   Detection Prevalence : 0.9084         \n",
            "      Balanced Accuracy : 0.9909         \n",
            "                                         \n",
            "       'Positive' Class : 0              \n",
            "                                         \n"
          ]
        }
      ]
    },
    {
      "cell_type": "markdown",
      "source": [
        "El modelo tiene presicion del 99.36%"
      ],
      "metadata": {
        "id": "aAIjrWIo3GtM"
      }
    },
    {
      "cell_type": "markdown",
      "source": [
        "**Para fines de tratar de simplificar el modelo y evitar overfitting; ademas de intentar mejorar las predicciones, aplicamos la poda del arbol**"
      ],
      "metadata": {
        "id": "1wU3hgjx3Sy3"
      }
    },
    {
      "cell_type": "code",
      "source": [
        "%%R\n",
        "cv_arboles <- cv.tree(modelo_arbol, K = 10, FUN = prune.misclass)\n",
        "cv_arboles"
      ],
      "metadata": {
        "colab": {
          "base_uri": "https://localhost:8080/"
        },
        "id": "j8m5g1OL2Pb2",
        "outputId": "1288bb32-074f-4a3f-d742-e08f6a0bb83d"
      },
      "execution_count": null,
      "outputs": [
        {
          "output_type": "stream",
          "name": "stdout",
          "text": [
            "$size\n",
            "[1] 12 10  8  7  4  3  1\n",
            "\n",
            "$dev\n",
            "[1]  4903  6362  8096  9575 21685 26677 69923\n",
            "\n",
            "$k\n",
            "[1]    -Inf   731.0   868.0  1479.0  4037.0  4992.0 21623.5\n",
            "\n",
            "$method\n",
            "[1] \"misclass\"\n",
            "\n",
            "attr(,\"class\")\n",
            "[1] \"prune\"         \"tree.sequence\"\n"
          ]
        }
      ]
    },
    {
      "cell_type": "markdown",
      "source": [
        "La deviance corresponde al error de clasificacion"
      ],
      "metadata": {
        "id": "xLsRXFRa4ji3"
      }
    },
    {
      "cell_type": "code",
      "source": [
        "%%R\n",
        "par(mfrow = c(1,2))\n",
        "#Cost complexity prunnig\n",
        "plot(cv_arboles$size, cv_arboles$dev, xlab = \"nodos terminales\",\n",
        "     ylab = \"error de clasificacion\", type = \"b\", pch = 19)\n",
        "plot(x = cv_arboles$k, y = cv_arboles$dev, xlab = \"alpha\",\n",
        "     ylab = \"error de clasificacion\", type = \"b\")"
      ],
      "metadata": {
        "colab": {
          "base_uri": "https://localhost:8080/",
          "height": 497
        },
        "id": "aIUf61wh3xXE",
        "outputId": "150a3dc7-4982-4fb4-d6f5-023653f7b9b8"
      },
      "execution_count": null,
      "outputs": [
        {
          "output_type": "display_data",
          "data": {
            "image/png": "[encoded data removed]"
          },
          "metadata": {}
        }
      ]
    },
    {
      "cell_type": "markdown",
      "source": [
        "La reduccion de error de 7 a 12 nodos es notable, intentaremos probar el modelo con 7 nodos tratando de simplificar el modelo "
      ],
      "metadata": {
        "id": "TD1vtffR5MMW"
      }
    },
    {
      "cell_type": "code",
      "source": [
        "%%R\n",
        "#Poda del arbol a 7 nodos terminales\n",
        "modelo_arbolPodado <- prune.misclass(tree = modelo_arbol, best = 7)\n",
        "\n",
        "par(mfrow = c(1,1))\n",
        "plot(x = modelo_arbolPodado, type = \"proportional\")\n",
        "text(modelo_arbolPodado, splits = TRUE, pretty = 0,\n",
        "     cex = 0.8, col = \"firebrick\")"
      ],
      "metadata": {
        "colab": {
          "base_uri": "https://localhost:8080/",
          "height": 497
        },
        "id": "FmOjHIVP426X",
        "outputId": "dec26e7e-ba4e-48f8-a553-1d7b1228b9fa"
      },
      "execution_count": null,
      "outputs": [
        {
          "output_type": "display_data",
          "data": {
            "image/png": "[encoded data removed]"
          },
          "metadata": {}
        }
      ]
    },
    {
      "cell_type": "code",
      "source": [
        "%%R\n",
        "#Evaluacion del modelo\n",
        "predicciones <- predict(modelo_arbolPodado, newdata = datos_test, \n",
        "                        type = \"class\")\n",
        "confusionMatrix(predicciones, datos_test[,8])"
      ],
      "metadata": {
        "colab": {
          "base_uri": "https://localhost:8080/"
        },
        "id": "1ZX-GkFF6yIC",
        "outputId": "eb012211-2e86-4c17-fa02-96cee38157ca"
      },
      "execution_count": null,
      "outputs": [
        {
          "output_type": "stream",
          "name": "stdout",
          "text": [
            "Confusion Matrix and Statistics\n",
            "\n",
            "          Reference\n",
            "Prediction      0      1\n",
            "         0 182138   2064\n",
            "         1    381  15416\n",
            "                                          \n",
            "               Accuracy : 0.9878          \n",
            "                 95% CI : (0.9873, 0.9883)\n",
            "    No Information Rate : 0.9126          \n",
            "    P-Value [Acc > NIR] : < 2.2e-16       \n",
            "                                          \n",
            "                  Kappa : 0.9199          \n",
            "                                          \n",
            " Mcnemar's Test P-Value : < 2.2e-16       \n",
            "                                          \n",
            "            Sensitivity : 0.9979          \n",
            "            Specificity : 0.8819          \n",
            "         Pos Pred Value : 0.9888          \n",
            "         Neg Pred Value : 0.9759          \n",
            "             Prevalence : 0.9126          \n",
            "         Detection Rate : 0.9107          \n",
            "   Detection Prevalence : 0.9210          \n",
            "      Balanced Accuracy : 0.9399          \n",
            "                                          \n",
            "       'Positive' Class : 0               \n",
            "                                          \n"
          ]
        }
      ]
    },
    {
      "cell_type": "markdown",
      "source": [
        "Con 12 nodos la presicion es de 99.36% con un Kappa de 96.09%\n",
        "\n",
        "Y con 7 nodos la presicion es de 98.78% con un Kappa de 91.99%\n",
        "\n",
        "El simplificar el arbol tiene un costo de 0.58%, que parece no tan severo."
      ],
      "metadata": {
        "id": "dhLCPAN47klW"
      }
    },
    {
      "cell_type": "markdown",
      "source": [
        "# Método de bagging o bootstrap aggregation\n",
        "\n",
        "Es un procedimiento utilizado para reducir la varianza de un método de aprendizaje estadístico.\n",
        "\n",
        "**Clasificacion**\n",
        "Dada una observación de test, podemos obtener la clase predicha por cada uno de los B árboles, y escoger como predicción final para dicha observación la clase más común de entre las B predicciones (predicción de cada árbol). El número de árboles (B) a crear no es un parámetro crítico a la hora de aplicar bagging(usaremos un número lo suficientemente alto como para alcanzar la estabilización en la reducción del test error - n, no afecta riesgo de overfitting).\n"
      ],
      "metadata": {
        "id": "v1c_5JMq8rd8"
      }
    },
    {
      "cell_type": "code",
      "source": [
        "%%R\n",
        "install.packages(\"randomForest\")\n",
        "library(randomForest)"
      ],
      "metadata": {
        "id": "WIbboslg8p0N"
      },
      "execution_count": null,
      "outputs": []
    },
    {
      "cell_type": "code",
      "source": [
        "%%R\n",
        "install.packages(\"ipred\")\n",
        "library(ipred)"
      ],
      "metadata": {
        "id": "BekCmg6P97Hv"
      },
      "execution_count": null,
      "outputs": []
    },
    {
      "cell_type": "code",
      "source": [
        "%%R\n",
        "bagging <- bagging(fraud ~ ., data = datos_train)\n",
        "bagging"
      ],
      "metadata": {
        "id": "10vmexVP_Dqc",
        "colab": {
          "base_uri": "https://localhost:8080/"
        },
        "outputId": "401cd2fa-cf40-4dec-9de6-e40fb3462ec0"
      },
      "execution_count": null,
      "outputs": [
        {
          "output_type": "stream",
          "name": "stdout",
          "text": [
            "\n",
            "Bagging classification trees with 25 bootstrap replications \n",
            "\n",
            "Call: bagging.data.frame(formula = fraud ~ ., data = datos_train)\n",
            "\n",
            "\n"
          ]
        }
      ]
    },
    {
      "cell_type": "code",
      "source": [
        "%%R\n",
        "predicciones_bag <- predict(bagging, datos_test)\n",
        "confusionMatrix(predicciones_bag, datos_test[,8])"
      ],
      "metadata": {
        "colab": {
          "base_uri": "https://localhost:8080/"
        },
        "id": "lziHxTILDejL",
        "outputId": "e97af34f-c72a-4b94-87fd-92be59305d17"
      },
      "execution_count": null,
      "outputs": [
        {
          "output_type": "stream",
          "name": "stdout",
          "text": [
            "Confusion Matrix and Statistics\n",
            "\n",
            "          Reference\n",
            "Prediction      0      1\n",
            "         0 182519      4\n",
            "         1      0  17476\n",
            "                                     \n",
            "               Accuracy : 1          \n",
            "                 95% CI : (0.9999, 1)\n",
            "    No Information Rate : 0.9126     \n",
            "    P-Value [Acc > NIR] : <2e-16     \n",
            "                                     \n",
            "                  Kappa : 0.9999     \n",
            "                                     \n",
            " Mcnemar's Test P-Value : 0.1336     \n",
            "                                     \n",
            "            Sensitivity : 1.0000     \n",
            "            Specificity : 0.9998     \n",
            "         Pos Pred Value : 1.0000     \n",
            "         Neg Pred Value : 1.0000     \n",
            "             Prevalence : 0.9126     \n",
            "         Detection Rate : 0.9126     \n",
            "   Detection Prevalence : 0.9126     \n",
            "      Balanced Accuracy : 0.9999     \n",
            "                                     \n",
            "       'Positive' Class : 0          \n",
            "                                     \n"
          ]
        }
      ]
    },
    {
      "cell_type": "markdown",
      "source": [
        "Con 25 replicas bootstrap la presicion es de 100% con un Kappa de 99.99%\n",
        "\n",
        "* Como conclusion el metodo bootstrap en arboles de desicion suelen mejorar los resultados de las predicciones gracias a la reduccion de varianza.\n",
        "\n",
        "* En este caso se pudo verificar. De hecho podemos observar que a pesar de tener datos desbalanceados las predicciones de los datos de test fueron acertadas.\n",
        "  ** Aunque lo ideal es trabajar con datos mejor balanceados."
      ],
      "metadata": {
        "id": "qW6tBUjkOt60"
      }
    },
    {
      "cell_type": "code",
      "source": [],
      "metadata": {
        "id": "Xuwz3nvwQtpX"
      },
      "execution_count": null,
      "outputs": []
    }
  ],
  "metadata": {
    "colab": {
      "provenance": []
    },
    "kernelspec": {
      "display_name": "Python 3",
      "name": "python3"
    },
    "language_info": {
      "name": "python"
    }
  },
  "nbformat": 4,
  "nbformat_minor": 0
}